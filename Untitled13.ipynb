{
  "nbformat": 4,
  "nbformat_minor": 0,
  "metadata": {
    "colab": {
      "provenance": [],
      "authorship_tag": "ABX9TyMjlEl+5Aexy/t+T1MpL1wm",
      "include_colab_link": true
    },
    "kernelspec": {
      "name": "python3",
      "display_name": "Python 3"
    },
    "language_info": {
      "name": "python"
    }
  },
  "cells": [
    {
      "cell_type": "markdown",
      "metadata": {
        "id": "view-in-github",
        "colab_type": "text"
      },
      "source": [
        "<a href=\"https://colab.research.google.com/github/alnpgy/MasteringTheRepo/blob/main/Untitled13.ipynb\" target=\"_parent\"><img src=\"https://colab.research.google.com/assets/colab-badge.svg\" alt=\"Open In Colab\"/></a>"
      ]
    },
    {
      "cell_type": "code",
      "execution_count": null,
      "metadata": {
        "id": "AHLkat-opMDN"
      },
      "outputs": [],
      "source": []
    },
    {
      "cell_type": "markdown",
      "source": [
        "#Пример использования Markdown\n",
        "1. Понедельник\n",
        "2. Вторник\n",
        "3. Среда\n",
        "4. Четверг\n",
        "5. Пятница\n",
        "6. Суббота\n",
        "\n",
        "<img src = 'https://drive.google.com/uc?id=1o1o7F5UaHyZT0OKEHkNryY5cHAJ3-Ku3'>\n",
        "\n",
        "First column name  | Second column name \n",
        "-------------------|------------------\n",
        "Row 1, Col 1       | Row 1, Col 2 \n",
        "Row 2, Col 1       | Row 2, Col 2 \n",
        "\n",
        "[Дни недели](https://www.youtube.com/watch?v=dQw4w9WgXcQ)"
      ],
      "metadata": {
        "id": "zskEpvTDpOG6"
      }
    },
    {
      "cell_type": "code",
      "source": [],
      "metadata": {
        "id": "qW6Yt_MGqUY8"
      },
      "execution_count": null,
      "outputs": []
    }
  ]
}